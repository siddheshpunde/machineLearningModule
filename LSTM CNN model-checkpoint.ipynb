{
 "cells": [
  {
   "cell_type": "markdown",
   "metadata": {},
   "source": [
    "# Time series forcasting with LSTM CNN model"
   ]
  },
  {
   "cell_type": "markdown",
   "metadata": {},
   "source": [
    "# Importing the libraries"
   ]
  },
  {
   "cell_type": "code",
   "execution_count": 1,
   "metadata": {},
   "outputs": [],
   "source": [
    "import pandas as pd\n",
    "import numpy as np\n",
    "import matplotlib.pyplot as plt\n",
    "%matplotlib inline\n",
    "import seaborn as sns\n",
    "sns.set()"
   ]
  },
  {
   "cell_type": "markdown",
   "metadata": {},
   "source": [
    "# Loading the data "
   ]
  },
  {
   "cell_type": "code",
   "execution_count": 2,
   "metadata": {},
   "outputs": [
    {
     "data": {
      "text/html": [
       "<div>\n",
       "<style scoped>\n",
       "    .dataframe tbody tr th:only-of-type {\n",
       "        vertical-align: middle;\n",
       "    }\n",
       "\n",
       "    .dataframe tbody tr th {\n",
       "        vertical-align: top;\n",
       "    }\n",
       "\n",
       "    .dataframe thead th {\n",
       "        text-align: right;\n",
       "    }\n",
       "</style>\n",
       "<table border=\"1\" class=\"dataframe\">\n",
       "  <thead>\n",
       "    <tr style=\"text-align: right;\">\n",
       "      <th></th>\n",
       "      <th>2017-01-1</th>\n",
       "      <th>2017-01-2</th>\n",
       "      <th>2017-01-3</th>\n",
       "      <th>2017-01-4</th>\n",
       "      <th>2017-01-5</th>\n",
       "      <th>2017-01-6</th>\n",
       "      <th>2017-01-7</th>\n",
       "      <th>2017-01-8</th>\n",
       "      <th>2017-01-9</th>\n",
       "      <th>2017-01-10</th>\n",
       "      <th>...</th>\n",
       "      <th>2017-01-27</th>\n",
       "      <th>2017-01-28</th>\n",
       "      <th>2017-01-29</th>\n",
       "      <th>2017-01-30</th>\n",
       "      <th>2017-01-31</th>\n",
       "      <th>2017-02-1</th>\n",
       "      <th>2017-02-2</th>\n",
       "      <th>2017-02-3</th>\n",
       "      <th>2017-02-4</th>\n",
       "      <th>2017-02-5</th>\n",
       "    </tr>\n",
       "  </thead>\n",
       "  <tbody>\n",
       "    <tr>\n",
       "      <th>0</th>\n",
       "      <td>399118.0</td>\n",
       "      <td>514552.0</td>\n",
       "      <td>488201.0</td>\n",
       "      <td>344440.0</td>\n",
       "      <td>275505.0</td>\n",
       "      <td>317753.0</td>\n",
       "      <td>329504.0</td>\n",
       "      <td>263286.0</td>\n",
       "      <td>243372.0</td>\n",
       "      <td>334817.0</td>\n",
       "      <td>...</td>\n",
       "      <td>216031.0</td>\n",
       "      <td>192350.0</td>\n",
       "      <td>190454.0</td>\n",
       "      <td>203606.0</td>\n",
       "      <td>208404.0</td>\n",
       "      <td>224789.0</td>\n",
       "      <td>213811.0</td>\n",
       "      <td>202548.0</td>\n",
       "      <td>212054.0</td>\n",
       "      <td>238493.0</td>\n",
       "    </tr>\n",
       "    <tr>\n",
       "      <th>1</th>\n",
       "      <td>1957.0</td>\n",
       "      <td>4816.0</td>\n",
       "      <td>873.0</td>\n",
       "      <td>389.0</td>\n",
       "      <td>1040.0</td>\n",
       "      <td>413.0</td>\n",
       "      <td>423.0</td>\n",
       "      <td>1149.0</td>\n",
       "      <td>512.0</td>\n",
       "      <td>233.0</td>\n",
       "      <td>...</td>\n",
       "      <td>1543.0</td>\n",
       "      <td>1849.0</td>\n",
       "      <td>1728.0</td>\n",
       "      <td>2135.0</td>\n",
       "      <td>716.0</td>\n",
       "      <td>2215.0</td>\n",
       "      <td>1788.0</td>\n",
       "      <td>1970.0</td>\n",
       "      <td>1091.0</td>\n",
       "      <td>1816.0</td>\n",
       "    </tr>\n",
       "    <tr>\n",
       "      <th>2</th>\n",
       "      <td>NaN</td>\n",
       "      <td>NaN</td>\n",
       "      <td>3141.0</td>\n",
       "      <td>4878.0</td>\n",
       "      <td>3829.0</td>\n",
       "      <td>3307.0</td>\n",
       "      <td>4208.0</td>\n",
       "      <td>1345.0</td>\n",
       "      <td>1362.0</td>\n",
       "      <td>1006.0</td>\n",
       "      <td>...</td>\n",
       "      <td>10455.0</td>\n",
       "      <td>5086.0</td>\n",
       "      <td>8214.0</td>\n",
       "      <td>7275.0</td>\n",
       "      <td>5019.0</td>\n",
       "      <td>8390.0</td>\n",
       "      <td>9122.0</td>\n",
       "      <td>13715.0</td>\n",
       "      <td>13380.0</td>\n",
       "      <td>4389.0</td>\n",
       "    </tr>\n",
       "    <tr>\n",
       "      <th>3</th>\n",
       "      <td>NaN</td>\n",
       "      <td>26129.0</td>\n",
       "      <td>25463.0</td>\n",
       "      <td>17915.0</td>\n",
       "      <td>28048.0</td>\n",
       "      <td>31646.0</td>\n",
       "      <td>21671.0</td>\n",
       "      <td>39711.0</td>\n",
       "      <td>31214.0</td>\n",
       "      <td>17552.0</td>\n",
       "      <td>...</td>\n",
       "      <td>24963.0</td>\n",
       "      <td>29845.0</td>\n",
       "      <td>43929.0</td>\n",
       "      <td>54612.0</td>\n",
       "      <td>60010.0</td>\n",
       "      <td>56542.0</td>\n",
       "      <td>55625.0</td>\n",
       "      <td>43424.0</td>\n",
       "      <td>27602.0</td>\n",
       "      <td>34509.0</td>\n",
       "    </tr>\n",
       "    <tr>\n",
       "      <th>4</th>\n",
       "      <td>98423.0</td>\n",
       "      <td>94398.0</td>\n",
       "      <td>127729.0</td>\n",
       "      <td>95929.0</td>\n",
       "      <td>102319.0</td>\n",
       "      <td>113193.0</td>\n",
       "      <td>74597.0</td>\n",
       "      <td>124859.0</td>\n",
       "      <td>103633.0</td>\n",
       "      <td>77339.0</td>\n",
       "      <td>...</td>\n",
       "      <td>99841.0</td>\n",
       "      <td>104725.0</td>\n",
       "      <td>94745.0</td>\n",
       "      <td>97104.0</td>\n",
       "      <td>143229.0</td>\n",
       "      <td>96797.0</td>\n",
       "      <td>102272.0</td>\n",
       "      <td>92846.0</td>\n",
       "      <td>67026.0</td>\n",
       "      <td>63486.0</td>\n",
       "    </tr>\n",
       "  </tbody>\n",
       "</table>\n",
       "<p>5 rows × 36 columns</p>\n",
       "</div>"
      ],
      "text/plain": [
       "   2017-01-1  2017-01-2  2017-01-3  2017-01-4  2017-01-5  2017-01-6  \\\n",
       "0   399118.0   514552.0   488201.0   344440.0   275505.0   317753.0   \n",
       "1     1957.0     4816.0      873.0      389.0     1040.0      413.0   \n",
       "2        NaN        NaN     3141.0     4878.0     3829.0     3307.0   \n",
       "3        NaN    26129.0    25463.0    17915.0    28048.0    31646.0   \n",
       "4    98423.0    94398.0   127729.0    95929.0   102319.0   113193.0   \n",
       "\n",
       "   2017-01-7  2017-01-8  2017-01-9  2017-01-10  ...  2017-01-27  2017-01-28  \\\n",
       "0   329504.0   263286.0   243372.0    334817.0  ...    216031.0    192350.0   \n",
       "1      423.0     1149.0      512.0       233.0  ...      1543.0      1849.0   \n",
       "2     4208.0     1345.0     1362.0      1006.0  ...     10455.0      5086.0   \n",
       "3    21671.0    39711.0    31214.0     17552.0  ...     24963.0     29845.0   \n",
       "4    74597.0   124859.0   103633.0     77339.0  ...     99841.0    104725.0   \n",
       "\n",
       "   2017-01-29  2017-01-30  2017-01-31  2017-02-1  2017-02-2  2017-02-3  \\\n",
       "0    190454.0    203606.0    208404.0   224789.0   213811.0   202548.0   \n",
       "1      1728.0      2135.0       716.0     2215.0     1788.0     1970.0   \n",
       "2      8214.0      7275.0      5019.0     8390.0     9122.0    13715.0   \n",
       "3     43929.0     54612.0     60010.0    56542.0    55625.0    43424.0   \n",
       "4     94745.0     97104.0    143229.0    96797.0   102272.0    92846.0   \n",
       "\n",
       "   2017-02-4  2017-02-5  \n",
       "0   212054.0   238493.0  \n",
       "1     1091.0     1816.0  \n",
       "2    13380.0     4389.0  \n",
       "3    27602.0    34509.0  \n",
       "4    67026.0    63486.0  \n",
       "\n",
       "[5 rows x 36 columns]"
      ]
     },
     "execution_count": 2,
     "metadata": {},
     "output_type": "execute_result"
    }
   ],
   "source": [
    "data = pd.read_csv('C:/Users/Lenovo/Downloads/final_sweb_visits_metric_data (1).csv')\n",
    "data.head()"
   ]
  },
  {
   "cell_type": "code",
   "execution_count": 3,
   "metadata": {},
   "outputs": [
    {
     "data": {
      "text/plain": [
       "(62597, 36)"
      ]
     },
     "execution_count": 3,
     "metadata": {},
     "output_type": "execute_result"
    }
   ],
   "source": [
    "data.shape"
   ]
  },
  {
   "cell_type": "markdown",
   "metadata": {},
   "source": [
    "#The given data set cantians the columns as dates and having no of values in each columns.\n",
    "#This is the n dimensional data set."
   ]
  },
  {
   "cell_type": "markdown",
   "metadata": {},
   "source": [
    "# Missing values"
   ]
  },
  {
   "cell_type": "code",
   "execution_count": 4,
   "metadata": {},
   "outputs": [
    {
     "name": "stdout",
     "output_type": "stream",
     "text": [
      "       2017-01-1  2017-01-2  2017-01-3  2017-01-4  2017-01-5  2017-01-6  \\\n",
      "0          False      False      False      False      False      False   \n",
      "1          False      False      False      False      False      False   \n",
      "2           True       True      False      False      False      False   \n",
      "3           True      False      False      False      False      False   \n",
      "4          False      False      False      False      False      False   \n",
      "5          False      False      False      False      False      False   \n",
      "6           True       True      False      False      False      False   \n",
      "7           True       True      False      False      False      False   \n",
      "8           True      False      False      False      False      False   \n",
      "9           True      False      False      False      False      False   \n",
      "10          True      False      False      False      False      False   \n",
      "11          True       True      False      False      False      False   \n",
      "12          True       True      False      False      False      False   \n",
      "13          True      False      False      False      False      False   \n",
      "14          True       True      False      False      False      False   \n",
      "15          True       True      False      False      False      False   \n",
      "16          True      False      False      False      False      False   \n",
      "17          True       True      False      False      False      False   \n",
      "18          True       True      False      False      False      False   \n",
      "19         False      False      False      False      False      False   \n",
      "20          True       True      False      False      False      False   \n",
      "21          True      False      False      False      False      False   \n",
      "22          True       True      False      False      False      False   \n",
      "23          True       True      False      False      False      False   \n",
      "24          True      False      False      False      False      False   \n",
      "25          True       True      False      False      False      False   \n",
      "26          True       True      False      False      False      False   \n",
      "27          True       True      False      False      False      False   \n",
      "28         False      False      False      False      False      False   \n",
      "29          True       True      False      False      False      False   \n",
      "...          ...        ...        ...        ...        ...        ...   \n",
      "62567       True       True      False      False      False      False   \n",
      "62568       True      False      False      False      False      False   \n",
      "62569      False      False      False      False      False      False   \n",
      "62570       True      False      False      False      False      False   \n",
      "62571       True       True      False      False      False      False   \n",
      "62572      False      False      False      False      False      False   \n",
      "62573       True      False      False      False      False      False   \n",
      "62574       True      False      False      False      False      False   \n",
      "62575       True      False      False      False      False      False   \n",
      "62576      False      False      False      False      False      False   \n",
      "62577      False      False      False      False      False      False   \n",
      "62578      False      False      False      False      False      False   \n",
      "62579       True      False      False      False      False      False   \n",
      "62580      False      False      False      False      False      False   \n",
      "62581       True      False      False      False      False      False   \n",
      "62582       True      False      False      False      False      False   \n",
      "62583      False      False      False      False      False      False   \n",
      "62584       True       True      False      False      False      False   \n",
      "62585       True       True      False      False      False      False   \n",
      "62586       True      False      False      False      False      False   \n",
      "62587       True      False      False      False      False      False   \n",
      "62588       True      False      False      False      False      False   \n",
      "62589      False      False      False      False      False      False   \n",
      "62590       True       True      False      False      False      False   \n",
      "62591      False      False      False      False      False      False   \n",
      "62592       True      False      False      False      False      False   \n",
      "62593       True      False      False      False      False      False   \n",
      "62594       True      False      False      False      False      False   \n",
      "62595       True       True      False      False      False      False   \n",
      "62596       True      False      False      False      False      False   \n",
      "\n",
      "       2017-01-7  2017-01-8  2017-01-9  2017-01-10  ...  2017-01-27  \\\n",
      "0          False      False      False       False  ...       False   \n",
      "1          False      False      False       False  ...       False   \n",
      "2          False      False      False       False  ...       False   \n",
      "3          False      False      False       False  ...       False   \n",
      "4          False      False      False       False  ...       False   \n",
      "5          False      False      False       False  ...       False   \n",
      "6          False      False      False       False  ...       False   \n",
      "7          False      False      False       False  ...       False   \n",
      "8          False      False      False       False  ...       False   \n",
      "9          False      False      False       False  ...       False   \n",
      "10         False      False      False       False  ...       False   \n",
      "11         False      False      False       False  ...       False   \n",
      "12         False      False      False       False  ...       False   \n",
      "13         False      False      False       False  ...       False   \n",
      "14         False      False      False       False  ...       False   \n",
      "15         False      False      False       False  ...       False   \n",
      "16         False      False      False       False  ...       False   \n",
      "17         False      False      False       False  ...       False   \n",
      "18         False      False      False       False  ...       False   \n",
      "19         False      False      False       False  ...       False   \n",
      "20         False      False      False       False  ...       False   \n",
      "21         False      False      False       False  ...       False   \n",
      "22         False      False      False       False  ...       False   \n",
      "23         False      False      False       False  ...       False   \n",
      "24         False      False      False       False  ...       False   \n",
      "25         False      False      False       False  ...       False   \n",
      "26         False      False      False       False  ...       False   \n",
      "27         False      False      False       False  ...       False   \n",
      "28         False      False      False       False  ...       False   \n",
      "29         False      False      False       False  ...       False   \n",
      "...          ...        ...        ...         ...  ...         ...   \n",
      "62567      False      False      False       False  ...       False   \n",
      "62568      False      False      False       False  ...       False   \n",
      "62569      False      False      False       False  ...       False   \n",
      "62570      False      False      False       False  ...       False   \n",
      "62571      False      False      False       False  ...       False   \n",
      "62572       True      False      False       False  ...       False   \n",
      "62573      False      False      False       False  ...       False   \n",
      "62574      False      False      False       False  ...       False   \n",
      "62575      False      False      False       False  ...       False   \n",
      "62576      False      False      False       False  ...       False   \n",
      "62577      False      False      False       False  ...       False   \n",
      "62578      False      False      False       False  ...       False   \n",
      "62579      False      False      False       False  ...       False   \n",
      "62580      False      False      False       False  ...       False   \n",
      "62581      False      False      False       False  ...       False   \n",
      "62582      False      False      False       False  ...       False   \n",
      "62583      False      False      False       False  ...       False   \n",
      "62584      False      False      False       False  ...       False   \n",
      "62585      False      False      False       False  ...       False   \n",
      "62586      False      False      False       False  ...       False   \n",
      "62587      False      False      False       False  ...       False   \n",
      "62588      False      False      False       False  ...       False   \n",
      "62589      False      False      False       False  ...       False   \n",
      "62590      False      False      False       False  ...       False   \n",
      "62591      False      False      False       False  ...       False   \n",
      "62592      False      False      False       False  ...       False   \n",
      "62593      False      False      False       False  ...       False   \n",
      "62594      False      False      False       False  ...       False   \n",
      "62595      False      False      False       False  ...       False   \n",
      "62596      False      False      False       False  ...       False   \n",
      "\n",
      "       2017-01-28  2017-01-29  2017-01-30  2017-01-31  2017-02-1  2017-02-2  \\\n",
      "0           False       False       False       False      False      False   \n",
      "1           False       False       False       False      False      False   \n",
      "2           False       False       False       False      False      False   \n",
      "3           False       False       False       False      False      False   \n",
      "4           False       False       False       False      False      False   \n",
      "5           False       False       False       False      False      False   \n",
      "6           False       False       False       False      False      False   \n",
      "7           False       False       False       False      False      False   \n",
      "8           False       False       False       False      False      False   \n",
      "9           False       False       False       False      False      False   \n",
      "10          False       False       False       False      False      False   \n",
      "11          False       False       False       False      False      False   \n",
      "12          False       False       False       False      False      False   \n",
      "13          False       False       False       False      False      False   \n",
      "14          False       False       False       False      False      False   \n",
      "15          False       False       False       False      False      False   \n",
      "16          False       False       False       False      False      False   \n",
      "17          False       False       False       False      False      False   \n",
      "18          False       False       False       False      False      False   \n",
      "19          False       False       False       False      False      False   \n",
      "20          False       False       False       False      False      False   \n",
      "21          False       False       False       False      False      False   \n",
      "22          False       False       False       False      False      False   \n",
      "23          False       False       False       False      False      False   \n",
      "24          False       False       False       False      False      False   \n",
      "25          False       False       False       False      False      False   \n",
      "26          False       False       False       False      False      False   \n",
      "27          False       False       False       False      False      False   \n",
      "28          False       False       False       False      False      False   \n",
      "29          False       False       False       False      False      False   \n",
      "...           ...         ...         ...         ...        ...        ...   \n",
      "62567       False       False       False       False      False      False   \n",
      "62568       False       False       False       False      False      False   \n",
      "62569       False       False       False       False      False      False   \n",
      "62570       False       False       False       False      False      False   \n",
      "62571       False       False       False       False      False      False   \n",
      "62572       False       False       False       False      False      False   \n",
      "62573       False       False       False       False      False      False   \n",
      "62574       False       False       False       False      False      False   \n",
      "62575       False       False       False       False      False      False   \n",
      "62576       False       False       False       False      False      False   \n",
      "62577       False       False       False       False      False      False   \n",
      "62578       False       False       False       False      False      False   \n",
      "62579       False       False       False       False      False      False   \n",
      "62580       False       False       False       False      False      False   \n",
      "62581       False       False       False       False      False      False   \n",
      "62582       False       False       False       False      False      False   \n",
      "62583       False       False       False       False      False      False   \n",
      "62584       False       False       False       False      False      False   \n",
      "62585       False       False       False       False      False      False   \n",
      "62586       False       False       False       False      False      False   \n",
      "62587       False       False       False       False      False      False   \n",
      "62588       False       False       False       False      False      False   \n",
      "62589       False       False       False       False      False      False   \n",
      "62590       False       False       False       False      False      False   \n",
      "62591       False       False       False       False      False      False   \n",
      "62592       False       False       False       False      False      False   \n",
      "62593       False       False       False       False      False      False   \n",
      "62594       False       False       False       False      False      False   \n",
      "62595       False       False       False       False      False      False   \n",
      "62596       False       False       False       False      False      False   \n",
      "\n",
      "       2017-02-3  2017-02-4  2017-02-5  \n",
      "0          False      False      False  \n",
      "1          False      False      False  \n",
      "2          False      False      False  \n",
      "3          False      False      False  \n",
      "4          False      False      False  \n",
      "5          False      False      False  \n",
      "6          False      False      False  \n",
      "7          False      False      False  \n",
      "8          False      False      False  \n",
      "9          False      False      False  \n",
      "10         False      False      False  \n",
      "11         False      False      False  \n",
      "12         False      False      False  \n",
      "13         False      False      False  \n",
      "14         False      False      False  \n",
      "15         False      False      False  \n",
      "16         False      False      False  \n",
      "17         False      False      False  \n",
      "18         False      False      False  \n",
      "19         False      False      False  \n",
      "20         False      False      False  \n",
      "21         False      False      False  \n",
      "22         False      False      False  \n",
      "23         False      False      False  \n",
      "24         False      False      False  \n",
      "25         False      False      False  \n",
      "26         False      False      False  \n",
      "27         False      False      False  \n",
      "28         False      False      False  \n",
      "29         False      False      False  \n",
      "...          ...        ...        ...  \n",
      "62567      False      False      False  \n",
      "62568      False      False      False  \n",
      "62569      False      False      False  \n",
      "62570      False      False      False  \n",
      "62571      False      False      False  \n",
      "62572      False      False      False  \n",
      "62573      False      False      False  \n",
      "62574      False      False      False  \n",
      "62575      False      False      False  \n",
      "62576      False      False      False  \n",
      "62577      False      False      False  \n",
      "62578      False      False      False  \n",
      "62579      False      False      False  \n",
      "62580      False      False      False  \n",
      "62581      False      False      False  \n",
      "62582      False      False      False  \n",
      "62583      False      False      False  \n",
      "62584      False      False      False  \n",
      "62585      False      False      False  \n",
      "62586      False      False      False  \n",
      "62587      False      False      False  \n",
      "62588      False      False      False  \n",
      "62589      False      False      False  \n",
      "62590      False      False      False  \n",
      "62591      False      False      False  \n",
      "62592      False      False      False  \n",
      "62593      False      False      False  \n",
      "62594      False      False      False  \n",
      "62595      False      False      False  \n",
      "62596      False      False      False  \n",
      "\n",
      "[62597 rows x 36 columns]\n"
     ]
    }
   ],
   "source": [
    "print(data.isnull())"
   ]
  },
  {
   "cell_type": "markdown",
   "metadata": {},
   "source": [
    "# Replacing nan values with 0"
   ]
  },
  {
   "cell_type": "code",
   "execution_count": 5,
   "metadata": {},
   "outputs": [],
   "source": [
    "data.fillna( 0, inplace = True)"
   ]
  },
  {
   "cell_type": "markdown",
   "metadata": {},
   "source": [
    "# Visulization"
   ]
  },
  {
   "cell_type": "code",
   "execution_count": 6,
   "metadata": {},
   "outputs": [
    {
     "data": {
      "text/plain": [
       "2017-01-1    1.297020e+10\n",
       "2017-01-2    5.755627e+10\n",
       "2017-01-3    1.416756e+11\n",
       "2017-01-4    1.392061e+11\n",
       "2017-01-5    1.453121e+11\n",
       "dtype: float64"
      ]
     },
     "execution_count": 6,
     "metadata": {},
     "output_type": "execute_result"
    }
   ],
   "source": [
    "df=data.sum()\n",
    "df.head()"
   ]
  },
  {
   "cell_type": "code",
   "execution_count": 7,
   "metadata": {},
   "outputs": [
    {
     "data": {
      "image/png": "[encoded data removed]",
      "text/plain": [
       "<Figure size 3600x576 with 1 Axes>"
      ]
     },
     "metadata": {
      "needs_background": "light"
     },
     "output_type": "display_data"
    }
   ],
   "source": [
    "plt.figure(figsize=(50, 8))\n",
    "plt.plot(df, color = 'r')\n",
    "plt.title('Time Series - SUM')\n",
    "plt.show()"
   ]
  },
  {
   "cell_type": "code",
   "execution_count": 8,
   "metadata": {},
   "outputs": [
    {
     "data": {
      "image/png": "[encoded data removed]",
      "text/plain": [
       "<Figure size 432x288 with 1 Axes>"
      ]
     },
     "metadata": {
      "needs_background": "light"
     },
     "output_type": "display_data"
    }
   ],
   "source": [
    "from pandas import read_csv\n",
    "from matplotlib import pyplot\n",
    "series = read_csv('C:/Users/Lenovo/Downloads/final_sweb_visits_metric_data (1).csv', header=0, index_col=0, parse_dates=True, squeeze=True)\n",
    "s=series.sum()\n",
    "s.hist()\n",
    "pyplot.show()"
   ]
  },
  {
   "cell_type": "markdown",
   "metadata": {},
   "source": [
    "#The given dataset is Treanding"
   ]
  },
  {
   "cell_type": "code",
   "execution_count": 9,
   "metadata": {},
   "outputs": [
    {
     "data": {
      "text/plain": [
       "Index(['2017-01-1', '2017-01-2', '2017-01-3', '2017-01-4', '2017-01-5',\n",
       "       '2017-01-6', '2017-01-7', '2017-01-8', '2017-01-9', '2017-01-10',\n",
       "       '2017-01-11', '2017-01-12', '2017-01-13', '2017-01-14', '2017-01-15',\n",
       "       '2017-01-16', '2017-01-17', '2017-01-18', '2017-01-19', '2017-01-20',\n",
       "       '2017-01-21', '2017-01-22', '2017-01-23', '2017-01-24', '2017-01-25',\n",
       "       '2017-01-26', '2017-01-27', '2017-01-28', '2017-01-29', '2017-01-30',\n",
       "       '2017-01-31', '2017-02-1', '2017-02-2', '2017-02-3', '2017-02-4',\n",
       "       '2017-02-5'],\n",
       "      dtype='object')"
      ]
     },
     "execution_count": 9,
     "metadata": {},
     "output_type": "execute_result"
    }
   ],
   "source": [
    "data.columns"
   ]
  },
  {
   "cell_type": "code",
   "execution_count": 10,
   "metadata": {},
   "outputs": [
    {
     "name": "stdout",
     "output_type": "stream",
     "text": [
      "Data ranges from 2017-01-1 to 2017-02-5\n"
     ]
    }
   ],
   "source": [
    "data_start_date = data.columns[0]\n",
    "data_end_date = data.columns[-1]\n",
    "print('Data ranges from %s to %s' % (data_start_date, data_end_date))"
   ]
  },
  {
   "cell_type": "markdown",
   "metadata": {},
   "source": [
    "#here we are visulizing the data by ploting random series"
   ]
  },
  {
   "cell_type": "code",
   "execution_count": 11,
   "metadata": {},
   "outputs": [
    {
     "data": {
      "image/png": "[encoded data removed]",
      "text/plain": [
       "<Figure size 720x432 with 1 Axes>"
      ]
     },
     "metadata": {
      "needs_background": "light"
     },
     "output_type": "display_data"
    }
   ],
   "source": [
    "def random_series(df, n_series):\n",
    "    sample = df.sample(n_series, random_state=8)\n",
    "    series_samples = sample.loc[:,data_start_date:data_end_date]\n",
    "    plt.figure(figsize=(10,6))\n",
    "    for i in range(series_samples.shape[0]):\n",
    "        np.log1p(pd.Series(series_samples.iloc[i]).astype(np.float64)).plot(linewidth=1.5)\n",
    "    \n",
    "random_series(data, 6)"
   ]
  },
  {
   "cell_type": "markdown",
   "metadata": {},
   "source": [
    "# Formatting the Data for Modeling"
   ]
  },
  {
   "cell_type": "markdown",
   "metadata": {},
   "source": [
    "#importing the datetime library .\n",
    "#spliting the dataset into training and validation\n",
    "#Defining the no of steps for pridiction\n",
    "#here we are having the 36 columns, \n",
    "so we use 28 columns for traning and 4 columns for prediction"
   ]
  },
  {
   "cell_type": "code",
   "execution_count": 12,
   "metadata": {},
   "outputs": [],
   "source": [
    "from datetime import timedelta\n",
    "pred_steps = 4\n",
    "pred_length=timedelta(pred_steps)\n",
    "\n",
    "first_day = pd.to_datetime(data_start_date) \n",
    "last_day = pd.to_datetime(data_end_date)\n",
    "\n",
    "val_pred_start = last_day - pred_length + timedelta(1)\n",
    "val_pred_end = last_day\n",
    "\n",
    "train_pred_start = val_pred_start - pred_length\n",
    "train_pred_end = val_pred_start - timedelta(days=1)"
   ]
  },
  {
   "cell_type": "code",
   "execution_count": 13,
   "metadata": {},
   "outputs": [
    {
     "name": "stdout",
     "output_type": "stream",
     "text": [
      "Train data: 2017-01-29 00:00:00 - 2017-02-01 00:00:00\n",
      "validation data: 2017-02-02 00:00:00 - 2017-02-05 00:00:00\n"
     ]
    }
   ],
   "source": [
    "print('Train data:',train_pred_start, '-', train_pred_end)\n",
    "print('validation data:', val_pred_start, '-', val_pred_end)"
   ]
  },
  {
   "cell_type": "markdown",
   "metadata": {},
   "source": [
    "#Now that we have the time segment dates, we'll define the functions we need to extract the data in keras friendly format.\n",
    "#here we are performing three steps for formating.\n",
    "#step 1. Pull the time series into an array,Create function to extract specified time interval from all the series.\n",
    "#step 2.we smooth out the scale by taking log1p and de-meaning each series using the encoder series mean.\n",
    "#step 3. we want to generate true predictions instead of log scale ones, we can easily apply a reverse transformation at prediction time."
   ]
  },
  {
   "cell_type": "code",
   "execution_count": 14,
   "metadata": {},
   "outputs": [],
   "source": [
    "#1\n",
    "index = pd.Series(index=pd.Index([pd.to_datetime(c) for c in data.columns[0:]]),\n",
    "                          data=[i for i in range(len(data.columns[0:]))])\n",
    "series_array = data[data.columns[0:]].values\n",
    "\n",
    "def get_time_block_series(series_array, index, start_date, end_date):\n",
    "    inds = index[start_date:end_date]\n",
    "    return series_array[:,inds]\n",
    "\n",
    "#2\n",
    "def transform_series_encode(series_array):\n",
    "    series_array = np.log1p(np.nan_to_num(series_array)) # filling NaN with 0\n",
    "    series_mean = series_array.mean(axis=1).reshape(-1,1) \n",
    "    series_array = series_array - series_mean\n",
    "    series_array = series_array.reshape((series_array.shape[0],series_array.shape[1], 1))\n",
    "    return series_array, series_mean\n",
    "#3\n",
    "def transform_series_decode(series_array, encode_series_mean):\n",
    "    series_array = np.log1p(np.nan_to_num(series_array)) # filling NaN with 0\n",
    "    series_array = series_array - encode_series_mean\n",
    "    series_array = series_array.reshape((series_array.shape[0],series_array.shape[1], 1))\n",
    "    return series_array"
   ]
  },
  {
   "cell_type": "markdown",
   "metadata": {},
   "source": [
    "# Building the Model - Architecture"
   ]
  },
  {
   "cell_type": "markdown",
   "metadata": {},
   "source": [
    "#Here's what we'll use:\n",
    "#8 dilated causal convolutional layers\n",
    "#32 filters of width 2 per layer\n",
    "#Exponentially increasing dilation rate (1, 2, 4, 8, ..., 128)\n",
    "#2 (time distributed) fully connected layers to map to final output\n",
    "#We'll extract the last 14 steps from the output sequence as our predicted output for training"
   ]
  },
  {
   "cell_type": "code",
   "execution_count": 15,
   "metadata": {},
   "outputs": [
    {
     "name": "stderr",
     "output_type": "stream",
     "text": [
      "Using TensorFlow backend.\n"
     ]
    }
   ],
   "source": [
    "from keras.models import Model\n",
    "from keras.layers import Input, Conv1D, Dense, Dropout, Lambda, concatenate\n",
    "from keras.optimizers import Adam\n",
    "n_filters = 32 \n",
    "filter_width = 2\n",
    "dilation_rates = [2**i for i in range(8)] \n",
    "\n",
    "history_seq = Input(shape=(None, 1))\n",
    "x = history_seq\n",
    "\n",
    "for dilation_rate in dilation_rates:\n",
    "    x = Conv1D(filters=n_filters,\n",
    "               kernel_size=filter_width, \n",
    "               padding='causal',\n",
    "               dilation_rate=dilation_rate)(x)\n",
    "\n",
    "x = Dense(128, activation='relu')(x)\n",
    "x = Dropout(.2)(x)\n",
    "x = Dense(1)(x)\n",
    "\n",
    "def slice(x, seq_length):\n",
    "    return x[:,-seq_length:,:]\n",
    "\n",
    "pred_seq_train = Lambda(slice, arguments={'seq_length':4})(x)\n",
    "\n",
    "model = Model(history_seq, pred_seq_train)"
   ]
  },
  {
   "cell_type": "code",
   "execution_count": 16,
   "metadata": {},
   "outputs": [
    {
     "name": "stdout",
     "output_type": "stream",
     "text": [
      "Model: \"model_1\"\n",
      "_________________________________________________________________\n",
      "Layer (type)                 Output Shape              Param #   \n",
      "=================================================================\n",
      "input_1 (InputLayer)         (None, None, 1)           0         \n",
      "_________________________________________________________________\n",
      "conv1d_1 (Conv1D)            (None, None, 32)          96        \n",
      "_________________________________________________________________\n",
      "conv1d_2 (Conv1D)            (None, None, 32)          2080      \n",
      "_________________________________________________________________\n",
      "conv1d_3 (Conv1D)            (None, None, 32)          2080      \n",
      "_________________________________________________________________\n",
      "conv1d_4 (Conv1D)            (None, None, 32)          2080      \n",
      "_________________________________________________________________\n",
      "conv1d_5 (Conv1D)            (None, None, 32)          2080      \n",
      "_________________________________________________________________\n",
      "conv1d_6 (Conv1D)            (None, None, 32)          2080      \n",
      "_________________________________________________________________\n",
      "conv1d_7 (Conv1D)            (None, None, 32)          2080      \n",
      "_________________________________________________________________\n",
      "conv1d_8 (Conv1D)            (None, None, 32)          2080      \n",
      "_________________________________________________________________\n",
      "dense_1 (Dense)              (None, None, 128)         4224      \n",
      "_________________________________________________________________\n",
      "dropout_1 (Dropout)          (None, None, 128)         0         \n",
      "_________________________________________________________________\n",
      "dense_2 (Dense)              (None, None, 1)           129       \n",
      "_________________________________________________________________\n",
      "lambda_1 (Lambda)            (None, None, 1)           0         \n",
      "=================================================================\n",
      "Total params: 19,009\n",
      "Trainable params: 19,009\n",
      "Non-trainable params: 0\n",
      "_________________________________________________________________\n"
     ]
    }
   ],
   "source": [
    "model.summary()"
   ]
  },
  {
   "cell_type": "markdown",
   "metadata": {},
   "source": [
    "#train and Validation Series Partioning\n",
    "#We need to create 4 sub-segments of the data:\n",
    "\n",
    "#1. Train history period\n",
    "#2. Train prediction period (train targets, 14 days)\n",
    "#3. Validation histroy period\n",
    "#4. Validation prediction period (validation targets, 14 days)"
   ]
  },
  {
   "cell_type": "code",
   "execution_count": 17,
   "metadata": {},
   "outputs": [],
   "source": [
    "history_length = train_pred_start - first_day\n",
    "\n",
    "train_history_start = first_day\n",
    "train_history_end = train_history_start + history_length - timedelta(1)\n",
    "\n",
    "val_history_start = train_history_start + pred_length\n",
    "val_history_end = val_history_start + history_length - timedelta(1)"
   ]
  },
  {
   "cell_type": "code",
   "execution_count": 19,
   "metadata": {},
   "outputs": [
    {
     "name": "stdout",
     "output_type": "stream",
     "text": [
      "Train history: 2017-01-01 00:00:00 - 2017-01-28 00:00:00\n",
      "Train prediction: 2017-01-29 00:00:00 - 2017-02-01 00:00:00 \n",
      "\n",
      "Val encoding: 2017-01-05 00:00:00 - 2017-02-01 00:00:00\n",
      "Val prediction: 2017-02-02 00:00:00 - 2017-02-05 00:00:00\n",
      "\n",
      "History interval: 28\n",
      "Prediction interval: 4\n"
     ]
    }
   ],
   "source": [
    "print('Train history:', train_history_start, '-', train_history_end)\n",
    "print('Train prediction:', train_pred_start, '-', train_pred_end, '\\n')\n",
    "print('Val encoding:', val_history_start, '-', val_history_end)\n",
    "print('Val prediction:', val_pred_start, '-', val_pred_end)\n",
    "\n",
    "print('\\nHistory interval:', history_length.days)\n",
    "print('Prediction interval:', pred_length.days)"
   ]
  },
  {
   "cell_type": "code",
   "execution_count": 22,
   "metadata": {},
   "outputs": [],
   "source": [
    "first_n_samples = 20000\n",
    "batch_size = 2**11\n",
    "epochs = 10\n",
    "\n",
    "input_data = get_time_block_series(series_array, index,train_history_start, train_history_end)[:first_n_samples]\n",
    "input_data, encode_series_mean = transform_series_encode(input_data)\n",
    "\n",
    "target_data = get_time_block_series(series_array, index, train_pred_start, train_pred_end)[:first_n_samples]\n",
    "target_data = transform_series_decode(target_data, encode_series_mean)\n",
    "\n",
    "lagged_target_history = target_data[:,:-1,:1]\n",
    "input_data = np.concatenate([input_data, lagged_target_history], axis=1)"
   ]
  },
  {
   "cell_type": "markdown",
   "metadata": {},
   "source": [
    "# Compling the model"
   ]
  },
  {
   "cell_type": "code",
   "execution_count": 30,
   "metadata": {},
   "outputs": [
    {
     "name": "stdout",
     "output_type": "stream",
     "text": [
      "Train on 16000 samples, validate on 4000 samples\n",
      "Epoch 1/10\n",
      "16000/16000 [==============================] - 22s 1ms/step - loss: 0.3218 - val_loss: 0.3680\n",
      "Epoch 2/10\n",
      "16000/16000 [==============================] - 19s 1ms/step - loss: 0.3103 - val_loss: 0.3566\n",
      "Epoch 3/10\n",
      "16000/16000 [==============================] - 18s 1ms/step - loss: 0.3051 - val_loss: 0.3561\n",
      "Epoch 4/10\n",
      "16000/16000 [==============================] - 18s 1ms/step - loss: 0.3025 - val_loss: 0.3557\n",
      "Epoch 5/10\n",
      "16000/16000 [==============================] - 18s 1ms/step - loss: 0.3012 - val_loss: 0.3539\n",
      "Epoch 6/10\n",
      "16000/16000 [==============================] - 18s 1ms/step - loss: 0.3006 - val_loss: 0.3541\n",
      "Epoch 7/10\n",
      "16000/16000 [==============================] - 18s 1ms/step - loss: 0.3007 - val_loss: 0.3534\n",
      "Epoch 8/10\n",
      "16000/16000 [==============================] - 18s 1ms/step - loss: 0.3004 - val_loss: 0.3536\n",
      "Epoch 9/10\n",
      "16000/16000 [==============================] - 19s 1ms/step - loss: 0.3005 - val_loss: 0.3534\n",
      "Epoch 10/10\n",
      "16000/16000 [==============================] - 18s 1ms/step - loss: 0.3001 - val_loss: 0.3536\n"
     ]
    }
   ],
   "source": [
    "model.compile(Adam(), loss='mean_absolute_error')\n",
    "hist = model.fit(input_data, target_data,batch_size=batch_size,epochs=epochs,validation_split=0.2)"
   ]
  },
  {
   "cell_type": "markdown",
   "metadata": {},
   "source": [
    "#from the observation as the no of epoch increased the loss get decreased\n",
    "#here loss function defining Mean absolute error"
   ]
  },
  {
   "cell_type": "markdown",
   "metadata": {},
   "source": [
    "# Building the Model - Inference Loop"
   ]
  },
  {
   "cell_type": "code",
   "execution_count": 33,
   "metadata": {},
   "outputs": [],
   "source": [
    "#creating the prediction function\n",
    "def predict_sequence(input_sequence):\n",
    "    history_sequence = input_sequence.copy()\n",
    "    pred_sequence = np.zeros((1,pred_steps,1)) \n",
    "    for i in range(pred_steps):\n",
    "        last_step_pred = model.predict(history_sequence)[0,-1,0]\n",
    "        pred_sequence[0,i,0] = last_step_pred\n",
    "        history_sequence = np.concatenate([history_sequence,last_step_pred.reshape(-1,1,1)], axis=1)\n",
    "    return pred_sequence"
   ]
  },
  {
   "cell_type": "code",
   "execution_count": 34,
   "metadata": {},
   "outputs": [],
   "source": [
    "input_data = get_time_block_series(series_array,index, val_history_start, val_history_end)\n",
    "input_data, encode_series_mean = transform_series_encode(input_data)\n",
    "\n",
    "target_data = get_time_block_series(series_array, index, val_pred_start, val_pred_end)\n",
    "target_data = transform_series_decode(target_data, encode_series_mean)"
   ]
  },
  {
   "cell_type": "markdown",
   "metadata": {},
   "source": [
    "# Generating and Plotting Predictions"
   ]
  },
  {
   "cell_type": "code",
   "execution_count": 35,
   "metadata": {},
   "outputs": [],
   "source": [
    "#defining the function for prediction and ploting\n",
    "def predict_and_plot(input_data,target_data, sample_ind, enc_tail_len=50):\n",
    "\n",
    "    encode_series = input_data[sample_ind:sample_ind+1,:,:] \n",
    "    pred_series = predict_sequence(encode_series)\n",
    "    encode_series = encode_series.reshape(-1,1)\n",
    "    pred_series = pred_series.reshape(-1,1)   \n",
    "    target_series = target_data[sample_ind,:,:1].reshape(-1,1) \n",
    "    encode_series_tail = np.concatenate([encode_series[-enc_tail_len:],target_series[:1]])\n",
    "    x_encode = encode_series_tail.shape[0]\n",
    "    \n",
    "    #ploting functions\n",
    "    plt.figure(figsize=(10,6))   \n",
    "    plt.plot(range(1,x_encode+1),encode_series_tail)\n",
    "    plt.plot(range(x_encode,x_encode+pred_steps),target_series,color='orange')\n",
    "    plt.plot(range(x_encode,x_encode+pred_steps),pred_series,color='teal',linestyle='--')\n",
    "    plt.title('Encoder Series Tail of Length %d, Target Series, and Predictions' % enc_tail_len)\n",
    "    plt.legend(['Encoding Series','Target Series','Predictions'])"
   ]
  },
  {
   "cell_type": "code",
   "execution_count": 37,
   "metadata": {},
   "outputs": [
    {
     "data": {
      "image/png": "[encoded data removed]",
      "text/plain": [
       "<Figure size 720x432 with 1 Axes>"
      ]
     },
     "metadata": {
      "needs_background": "light"
     },
     "output_type": "display_data"
    }
   ],
   "source": [
    "#passing the input data and target data and calling the function\n",
    "predict_and_plot(input_data,target_data, 2000)"
   ]
  },
  {
   "cell_type": "code",
   "execution_count": null,
   "metadata": {},
   "outputs": [],
   "source": []
  },
  {
   "cell_type": "code",
   "execution_count": null,
   "metadata": {},
   "outputs": [],
   "source": []
  }
 ],
 "metadata": {
  "kernelspec": {
   "display_name": "Python 3",
   "language": "python",
   "name": "python3"
  },
  "language_info": {
   "codemirror_mode": {
    "name": "ipython",
    "version": 3
   },
   "file_extension": ".py",
   "mimetype": "text/x-python",
   "name": "python",
   "nbconvert_exporter": "python",
   "pygments_lexer": "ipython3",
   "version": "3.7.3"
  }
 },
 "nbformat": 4,
 "nbformat_minor": 2
}
